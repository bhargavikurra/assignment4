{
 "cells": [
  {
   "cell_type": "code",
   "execution_count": 14,
   "metadata": {},
   "outputs": [
    {
     "name": "stdout",
     "output_type": "stream",
     "text": [
      "Enter a regular expression: ^Author\n",
      "mbox.txt had 1798 lines that matched ^Author\n"
     ]
    }
   ],
   "source": [
    "#chapter 11 exercise-1\n",
    "import re\n",
    "user_re = input(\"Enter a regular expression: \")\n",
    "fname = 'mbox.txt'\n",
    "data = [line.strip('\\n') for line in open(fname, 'r')]\n",
    "pattern = re.compile(user_re)\n",
    "count = 0\n",
    "for line in data:\n",
    "    result = re.search(pattern, line)\n",
    "    if result:\n",
    "        count=count+1\n",
    "print (\"%s had %d lines that matched %s\" % (fname, count, user_re))"
   ]
  },
  {
   "cell_type": "code",
   "execution_count": 9,
   "metadata": {},
   "outputs": [
    {
     "name": "stdout",
     "output_type": "stream",
     "text": [
      "Enter the name of the file:mbox-short.txt\n",
      "the Average is: 39756.92592592593\n"
     ]
    }
   ],
   "source": [
    "#chapter 11 exercise-2\n",
    "import re\n",
    "count=0\n",
    "tot=0\n",
    "file=input(\"Enter the name of the file:\")\n",
    "hand=open(file)\n",
    "result=list()\n",
    "for line in hand:\n",
    "    line=line.rstrip()\n",
    "    f=re.findall('New Revision: ([0-9]+)', line)\n",
    "    if len(f) !=1: continue\n",
    "    num=float(f[0])\n",
    "    count=count+1\n",
    "    tot=tot+num\n",
    "    result.append(num)\n",
    "    average=tot/count\n",
    "print(\"the Average is:\", average)"
   ]
  },
  {
   "cell_type": "code",
   "execution_count": 10,
   "metadata": {},
   "outputs": [
    {
     "name": "stdout",
     "output_type": "stream",
     "text": [
      "Enter url:  http://data.pr4e.org/mbox.txt\n",
      "Please enter a valid URL\n"
     ]
    },
    {
     "ename": "SystemExit",
     "evalue": "1",
     "output_type": "error",
     "traceback": [
      "An exception has occurred, use %tb to see the full traceback.\n",
      "\u001b[1;31mSystemExit\u001b[0m\u001b[1;31m:\u001b[0m 1\n"
     ]
    },
    {
     "name": "stderr",
     "output_type": "stream",
     "text": [
      "C:\\Users\\bharg\\Anaconda3\\lib\\site-packages\\IPython\\core\\interactiveshell.py:3304: UserWarning: To exit: use 'exit', 'quit', or Ctrl-D.\n",
      "  warn(\"To exit: use 'exit', 'quit', or Ctrl-D.\", stacklevel=1)\n"
     ]
    }
   ],
   "source": [
    "#chapter 12 exercise-1:\n",
    "import socket\n",
    "import os\n",
    "url_input = input(\"Enter url: \")\n",
    "try:\n",
    "    url_name = url_input.split(\"/\")[2]\n",
    "    url_socket = socket.socket(socket.AF_INET, socket.SOCK_STREAM)\n",
    "    url_socket.connect((host_name, 80))\n",
    "    url_socket.send('GET ' + url_input + ' HTTP/1.0\\n\\n')\n",
    "except:\n",
    "    print (\"Please enter a valid URL\")\n",
    "os.sys.exit(1)\n",
    "while True:\n",
    "    socket_data = url_socket.recv(512)\n",
    "    break\n",
    "if (len(socket_data) < 1):\n",
    "    print (socket_data)\n",
    "url_socket.close()\n"
   ]
  },
  {
   "cell_type": "code",
   "execution_count": 1,
   "metadata": {},
   "outputs": [
    {
     "name": "stdout",
     "output_type": "stream",
     "text": [
      "HTTP/1.1 200 OK\r\n",
      "Date: Thu, 06 Jun 2019 17:28:52 GMT\r\n",
      "Server: Apache/2.4.18 (Ubuntu)\r\n",
      "Last-Modified: Sat, 13 May 2017 11:22:22 GMT\r\n",
      "ETag: \"6dbe-54f6609240717\"\r\n",
      "Accept-Ranges: bytes\r\n",
      "Content-Length: 28094\r\n",
      "Cache-Control: max-age=0, no-cache, no-store, must-revalidate\r\n",
      "Pragma: no-cache\r\n",
      "Expires: Wed, 11 Jan 1984 05:00:00 GMT\r\n",
      "Connection: close\r\n",
      "Content-Type: text/plain\r\n",
      "\r\n",
      "\n",
      "Why should you learn to write programs?\n",
      "\n",
      "Writing programs (or programming) is a very creative \n",
      "and rewarding activity.  You can write programs for \n",
      "many reasons, ranging from making your living to solving\n",
      "a difficult data analysis problem to having fun to helping\n",
      "someone else solve a problem.  This book assumes that \n",
      "everyone needs to know how to program, and that once \n",
      "you know how to program you will figure out what you want \n",
      "to do with your newfound skills.  \n",
      "\n",
      "We are surrounded in our daily lives with computers ranging \n",
      "from laptops to cell phones.  We can think of these computers\n",
      "as our personal assistants who can take care of many things\n",
      "on our behalf.  The hardware in our current-day computers \n",
      "is essentially built to continuously ask us the question, \n",
      "What would you like me to do next?\n",
      "\n",
      "Programmers add an operating system and a set of applications\n",
      "to the hardware and we end up with a Personal Digital\n",
      "Assistant that is quite helpful and capable of helping\n",
      "us do many different things.\n",
      "\n",
      "Our computers are fast and have vast amounts of memory and \n",
      "could be very helpful to us if we only knew the language to\n",
      "speak to explain to the computer what we would like it to \n",
      "do next.  If we knew this language, we could tell the \n",
      "computer to do tasks on our behalf that were repetitive.  \n",
      "Interestingly, the kinds of things computers can do best\n",
      "are often the kinds of things that we humans find boring\n",
      "and mind-numbing.\n",
      "\n",
      "For example, look at the first three paragraphs of this\n",
      "chapter and tell me the most commonly used word and how\n",
      "many times the word is used.  While you were able to read\n",
      "and understand the words in a few seconds, counting them\n",
      "is almost painful because it is not the kind of problem \n",
      "that human minds are designed to solve.  For a computer\n",
      "the opposite is true, reading and understanding text \n",
      "from a piece of paper is hard for a computer to do \n",
      "but counting the words and telling you how many times\n",
      "the most used word was used is very easy for the\n",
      "computer:\n",
      "\n",
      "Our personal information analysis assistant quickly \n",
      "told us that the word to was used sixteen times in the\n",
      "first three paragraphs of this chapter.\n",
      "\n",
      "This very fact that computers are good at things \n",
      "that humans are not is why you need to become\n",
      "skilled at talking computer language.  Once you learn\n",
      "this new language, you can delegate mundane tasks\n",
      "to your partner (the computer), leaving more time \n",
      "for you to do the \n",
      "things that you are uniquely suited for.  You bring \n",
      "creativity, intuition, and inventiveness to this\n",
      "partnership.  \n",
      "\n",
      "Creativity and motivation\n",
      "\n",
      "While this book is not intended for professional programmers, professi 3000 characters are getting displayed\n"
     ]
    }
   ],
   "source": [
    "# chapter 12 exercise-2\n",
    "import socket\n",
    "mysock=socket.socket(socket.AF_INET, socket.SOCK_STREAM)\n",
    "mysock.connect(('data.pr4e.org', 80))\n",
    "cmd='GET http://data.pr4e.org/intro.txt HTTP/1.0\\r\\n\\r\\n'.encode()\n",
    "mysock.send(cmd)\n",
    "while True:\n",
    "    data=mysock.recv(3000)\n",
    "    break\n",
    "print(data.decode(),end='')\n",
    "print(\" 3000 characters are getting displayed\")\n",
    "mysock.close()"
   ]
  },
  {
   "cell_type": "code",
   "execution_count": 15,
   "metadata": {},
   "outputs": [
    {
     "name": "stdout",
     "output_type": "stream",
     "text": [
      "\n",
      "Why should you learn to write programs?\n",
      "\n",
      "Writing programs (or programming) is a very creative\n",
      "and rewarding activity.  You can write programs for\n",
      "many reasons, ranging from making your living to solving\n",
      "a difficult data analysis problem to having fun to helping\n",
      "someone else solve a problem.  This book assumes that\n",
      "everyone needs to know how to program, and that once\n",
      "you know how to program you will figure out what you want\n",
      "to do with your newfound skills.\n",
      "\n",
      "We are surrounded in our daily lives with computers ranging\n",
      "from laptops to cell phones.  We can think of these computers\n",
      "as our personal assistants who can take care of many things\n",
      "on our behalf.  The hardware in our current-day computers\n",
      "is essentially built to continuously ask us the question,\n",
      "What would you like me to do next?\n",
      "\n",
      "Programmers add an operating system and a set of applications\n",
      "to the hardware and we end up with a Personal Digital\n",
      "Assistant that is quite helpful and capable of helping\n",
      "us do many different things.\n",
      "\n",
      "Our computers are fast and have vast amounts of memory and\n",
      "could be very helpful to us if we only knew the language to\n",
      "speak to explain to the computer what we would like it to\n",
      "do next.  If we knew this language, we could tell the\n",
      "computer to do tasks on our behalf that were repetitive.\n",
      "Interestingly, the kinds of things computers can do best\n",
      "are often the kinds of things that we humans find boring\n",
      "and mind-numbing.\n",
      "\n",
      "For example, look at the first three paragraphs of this\n",
      "chapter and tell me the most commonly used word and how\n",
      "many times the word is used.  While you were able to read\n",
      "and understand the words in a few seconds, counting them\n",
      "is almost painful because it is not the kind of problem\n",
      "that human minds are designed to solve.  For a computer\n",
      "the opposite is true, reading and understanding text\n",
      "from a piece of paper is hard for a computer to do\n",
      "but counting the words and telling you how many times\n",
      "the most used word was used is very easy for the\n",
      "computer:\n",
      "\n",
      "Our personal information analysis assistant quickly\n",
      "told us that the word to was used sixteen times in the\n",
      "first three paragraphs of this chapter.\n",
      "\n",
      "This very fact that computers are good at things\n",
      "that humans are not is why you need to become\n",
      "skilled at talking computer language.  Once you learn\n",
      "this new language, you can delegate mundane tasks\n",
      "to your partner (the computer), leaving more time\n",
      "for you to do the\n",
      "things that you are uniquely suited for.  You bring\n",
      "creativity, intuition, and inventiveness to this\n",
      "partnership.\n",
      "\n",
      "Creativity and motivation\n",
      "\n",
      "While this book is not intended for professional programmers, professional\n",
      "programming can be a very rewarding job both financially and personally.\n",
      "Building useful, elegant, and clever programs for others to use is a very\n",
      "creative activity.  Your computer or Personal Digital Assistant (PDA)\n",
      "usually contains many different programs from many different groups of\n",
      "programmers, each competing for your attention and interest.  They try\n",
      "28094\n"
     ]
    }
   ],
   "source": [
    "#chapter 12 exercise-3\n",
    "import urllib.request\n",
    "import urllib.parse\n",
    "import urllib.error\n",
    "fhand = urllib.request.urlopen('http://data.pr4e.org/intro.txt')\n",
    "characters = 0\n",
    "for line in fhand:\n",
    "    words = line.decode()\n",
    "    characters = characters + len(words)\n",
    "    if characters < 3000:\n",
    "        print(line.decode().strip())\n",
    "print(characters)"
   ]
  },
  {
   "cell_type": "code",
   "execution_count": 14,
   "metadata": {},
   "outputs": [
    {
     "name": "stdout",
     "output_type": "stream",
     "text": [
      "Enter the url https://www.impactbnd.com/blog/21-basic-html-codes-everyone-whos-not-a-developer-should-know\n",
      "113\n"
     ]
    }
   ],
   "source": [
    "#Chapter exercise-4\n",
    "import urllib.request\n",
    "import urllib.parse\n",
    "import urllib.error\n",
    "import ssl\n",
    "from bs4 import BeautifulSoup\n",
    "count = 0                               \n",
    "text = ssl.create_default_context()\n",
    "text.check_hostname = False\n",
    "text.verify_mode = ssl.CERT_NONE\n",
    "url = input('Enter the url ')\n",
    "html = urllib.request.urlopen(url, context=text).read()\n",
    "soup = BeautifulSoup(html, 'html.parser')\n",
    "tags = soup('p')\n",
    "for tag in tags:\n",
    "    count += 1                         \n",
    "print(count)"
   ]
  },
  {
   "cell_type": "code",
   "execution_count": 12,
   "metadata": {},
   "outputs": [
    {
     "name": "stdout",
     "output_type": "stream",
     "text": [
      "\r\n",
      "\r\n",
      "<!DOCTYPE HTML PUBLIC \"-//IETF//DTD HTML 2.0//EN\">\n",
      "<html><head>\n",
      "<title>400 Bad Request</title>\n",
      "</head><body>\n",
      "<h1>Bad Request</h1>\n",
      "<p>Your browser sent a request that this server could not understand.<br />\n",
      "</p>\n",
      "<hr>\n",
      "<address>Apache/2.4.18 (Ubuntu) Server at do1.dr-chuck.com Port 80</address>\n",
      "</body></html>\n",
      "\n"
     ]
    }
   ],
   "source": [
    "#chapter exercise-5\n",
    "import socket\n",
    "import re\n",
    "my_sock = socket.socket(socket.AF_INET, socket.SOCK_STREAM)\n",
    "my_sock.connect(('data.pr4e.org', 80))\n",
    "cmd = 'GET http://data.pr4e.org/intro.txt HTTP/1.0\\n\\n'.encode()\n",
    "my_sock.send(cmd)\n",
    "data = my_sock.recv(512)\n",
    "message = data.decode()\n",
    "end_header = message.find('\\r\\n\\r\\n')                               \n",
    "print(message[end_header:])\n",
    "while True:                                 \n",
    "    data = my_sock.recv(512)\n",
    "    if not data:\n",
    "        break\n",
    "    print(data.decode())\n",
    "my_sock.close()"
   ]
  },
  {
   "cell_type": "code",
   "execution_count": null,
   "metadata": {},
   "outputs": [],
   "source": []
  },
  {
   "cell_type": "code",
   "execution_count": null,
   "metadata": {},
   "outputs": [],
   "source": []
  },
  {
   "cell_type": "code",
   "execution_count": null,
   "metadata": {},
   "outputs": [],
   "source": []
  }
 ],
 "metadata": {
  "kernelspec": {
   "display_name": "Python 3",
   "language": "python",
   "name": "python3"
  },
  "language_info": {
   "codemirror_mode": {
    "name": "ipython",
    "version": 3
   },
   "file_extension": ".py",
   "mimetype": "text/x-python",
   "name": "python",
   "nbconvert_exporter": "python",
   "pygments_lexer": "ipython3",
   "version": "3.7.3"
  }
 },
 "nbformat": 4,
 "nbformat_minor": 2
}
